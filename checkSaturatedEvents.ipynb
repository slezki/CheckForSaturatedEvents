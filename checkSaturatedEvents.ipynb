{
 "cells": [
  {
   "cell_type": "code",
   "execution_count": 1,
   "id": "677640ef",
   "metadata": {},
   "outputs": [
    {
     "name": "stdout",
     "output_type": "stream",
     "text": [
      "Welcome to JupyROOT 6.26/10\n"
     ]
    }
   ],
   "source": [
    "import ROOT\n",
    "import os\n",
    "import numpy as np\n",
    "import pandas as pd"
   ]
  },
  {
   "cell_type": "code",
   "execution_count": 2,
   "id": "9df93370",
   "metadata": {},
   "outputs": [
    {
     "name": "stdout",
     "output_type": "stream",
     "text": [
      "[Errno 17] File exists: 'checkSaturatedEvents'\n",
      "Here: /Users/slezki/working/na62/singleTracks/checkSaturatedEvents\n"
     ]
    }
   ],
   "source": [
    "saveDir = \"checkSaturatedEvents\"\n",
    "try:\n",
    "    os.mkdir(saveDir)\n",
    "except OSError as error:\n",
    "    print(error) \n",
    "    print(\"Here: \"+os.getcwd()+\"/\"+saveDir)"
   ]
  },
  {
   "cell_type": "code",
   "execution_count": 3,
   "id": "c3efb77e",
   "metadata": {},
   "outputs": [],
   "source": [
    "#ROOT.EnableImplicitMT(4)\n",
    "rFile = \"/Volumes/Buio/na62/data/singleTracks/checkSingleTracks_addCellInfo_BD2021.root\"\n",
    "rTree = \"singleTracks\"\n",
    "df = ROOT.RDataFrame(rTree,rFile)"
   ]
  },
  {
   "cell_type": "markdown",
   "id": "8b9d9654",
   "metadata": {},
   "source": [
    "# Baseline selection criteria"
   ]
  },
  {
   "cell_type": "code",
   "execution_count": 4,
   "id": "9f4b6e38",
   "metadata": {},
   "outputs": [],
   "source": [
    "baselineCuts = \"Trigger_NewCHOD && Trigger_LKr && Trigger_Q1 && Tracks_NewCHODTimeExist\"\n",
    "acceptance = \"Tracks_accANTI0 == 1 && Tracks_accLAV12 == 1 && Tracks_accSTRAW0 == 1 && Tracks_accSTRAW1 == 1 && Tracks_accSTRAW2 == 1 && Tracks_accSTRAW3 == 1 && Tracks_accNewCHOD == 1 && Tracks_accLKr == 1 && Tracks_accMUV1 == 1 && Tracks_accMUV2 == 1 && Tracks_accMUV3 == 1 && Tracks_accCHOD == 1\";\n",
    "trksCuts = \"Tracks_chi2<20\""
   ]
  },
  {
   "cell_type": "code",
   "execution_count": 5,
   "id": "1ce979b1",
   "metadata": {},
   "outputs": [
    {
     "name": "stderr",
     "output_type": "stream",
     "text": [
      "Warning in <TClass::Init>: no dictionary for class Stream is available\n",
      "Warning in <TClass::Init>: no dictionary for class RecoInfo is available\n",
      "Warning in <TClass::Init>: no dictionary for class AnalysisInfo is available\n",
      "Warning in <TClass::Init>: no dictionary for class CheckPointInfo is available\n",
      "Warning in <TClass::Init>: no dictionary for class NA62Analysis::Core::AnalyzerIdentifier is available\n",
      "Warning in <TClass::Init>: no dictionary for class MCInfo is available\n",
      "Warning in <TClass::Init>: no dictionary for class BeamLineInfo is available\n"
     ]
    }
   ],
   "source": [
    "filterCuts = baselineCuts+\"&&\"+acceptance+\"&&\"+trksCuts\n",
    "df_skim = df.Filter(filterCuts)"
   ]
  },
  {
   "cell_type": "markdown",
   "id": "4b0fdd4a",
   "metadata": {},
   "source": [
    "# Convert MeV to GeV"
   ]
  },
  {
   "cell_type": "code",
   "execution_count": 6,
   "id": "84d4985a",
   "metadata": {},
   "outputs": [],
   "source": [
    "df_skim = df_skim.Redefine(\"Tracks_p\",\"Tracks_p*0.001\")\n",
    "df_skim = df_skim.Redefine(\"Tracks_lkrE\",\"Tracks_lkrE*0.001\")\n",
    "df_skim = df_skim.Redefine(\"Tracks_lkrTotE\",\"Tracks_lkrTotE*0.001\")\n",
    "df_skim = df_skim.Redefine(\"Tracks_muv1E\",\"Tracks_muv1E*0.001\")\n",
    "df_skim = df_skim.Redefine(\"Tracks_muv2E\",\"Tracks_muv2E*0.001\")\n",
    "df_skim = df_skim.Redefine(\"Tracks_CaloE\",\"Tracks_CaloE*0.001\")\n",
    "df_skim = df_skim.Redefine(\"Cluster_E\",\"Cluster_E*0.001\")\n",
    "df_skim = df_skim.Redefine(\"Cluster_correctedEnergy\",\"Cluster_correctedEnergy*0.001\")\n",
    "df_skim = df_skim.Redefine(\"Tracks_p_BeforeFit\",\"Tracks_p_BeforeFit*0.001\")\n",
    "df_skim = df_skim.Redefine(\"Tracks_pX_BeforeMagnet\",\"Tracks_pX_BeforeMagnet*0.001\")\n",
    "df_skim = df_skim.Redefine(\"Tracks_pY_BeforeMagnet\",\"Tracks_pY_BeforeMagnet*0.001\")\n",
    "df_skim = df_skim.Redefine(\"Tracks_pZ_BeforeMagnet\",\"Tracks_pZ_BeforeMagnet*0.001\")\n",
    "df_skim = df_skim.Redefine(\"Tracks_pX_AfterMagnet\",\"Tracks_pX_AfterMagnet*0.001\")\n",
    "df_skim = df_skim.Redefine(\"Tracks_pY_AfterMagnet\",\"Tracks_pY_AfterMagnet*0.001\")\n",
    "df_skim = df_skim.Redefine(\"Tracks_pZ_AfterMagnet\",\"Tracks_pZ_AfterMagnet*0.001\")"
   ]
  },
  {
   "cell_type": "markdown",
   "id": "64df34ed",
   "metadata": {},
   "source": [
    "# Add new branches"
   ]
  },
  {
   "cell_type": "code",
   "execution_count": 7,
   "id": "932bec9a",
   "metadata": {},
   "outputs": [],
   "source": [
    "df_skim = df_skim.Define(\"Tracks_caloEoP\",\"Tracks_CaloE/Tracks_p\")\n",
    "df_skim = df_skim.Define(\"Tracks_muv1EoP\",\"Tracks_muv1E/Tracks_p\")\n",
    "df_skim = df_skim.Define(\"Tracks_muv2EoP\",\"Tracks_muv2E/Tracks_p\")\n",
    "df_skim = df_skim.Define(\"Tracks_muv12E\",\"Tracks_muv1E+Tracks_muv2E\")\n",
    "df_skim = df_skim.Define(\"Tracks_muv12E_subs\",\"Tracks_CaloE-Tracks_lkrE\")\n",
    "df_skim = df_skim.Define(\"Tracks_muv12EoP\",\"Tracks_muv12E/Tracks_p\")\n",
    "df_skim = df_skim.Define(\"Tracks_muv12EoP_subs\",\"Tracks_muv12E_subs/Tracks_p\")\n",
    "df_skim = df_skim.Define(\"BestClusterEOP\",\"BestClusterEnergy/Tracks_p\")\n",
    "df_skim = df_skim.Define(\"Tracks_assocTime\",\"Tracks_CHODTimeExist ? Tracks_CHODTime : Tracks_NewCHODTime\")\n",
    "df_skim = df_skim.Define(\"DeltaE_CorrNative\",\"fabs(BestClusterEnergy-Tracks_lkrE)\")\n",
    "df_skim = df_skim.Define(\"Sat\",\"PossibleSaturation\")\n",
    "df_skim = df_skim.Define(\"NeighbourE\",\"HighestNeighbourEnergy\")\n",
    "df_skim = df_skim.Define(\"DS_LKrE\",\"Tracks_lkrE\")\n",
    "df_skim = df_skim.Define(\"BestClusE\",\"BestClusterEnergy\")"
   ]
  },
  {
   "cell_type": "markdown",
   "id": "e26f0461",
   "metadata": {},
   "source": [
    "# Reject tracks if $\\Delta T[tracks,trigger] > 5 ns$"
   ]
  },
  {
   "cell_type": "code",
   "execution_count": 8,
   "id": "2896cdbe",
   "metadata": {},
   "outputs": [],
   "source": [
    "df_skim = df_skim.Filter(\"fabs(Tracks_assocTime - Trigger_Time) < 5\")"
   ]
  },
  {
   "cell_type": "markdown",
   "id": "e6d8716c",
   "metadata": {},
   "source": [
    "# Reject $MUV12$ associations"
   ]
  },
  {
   "cell_type": "code",
   "execution_count": 9,
   "id": "76c4688b",
   "metadata": {},
   "outputs": [],
   "source": [
    "df_muv12_f_and = df_skim.Filter(\"Tracks_MUV1AssociationExists==0 && Tracks_MUV2AssociationExists==0\")"
   ]
  },
  {
   "cell_type": "markdown",
   "id": "75bee906",
   "metadata": {},
   "source": [
    "# Check Downstream tracks $p$ and $E_{LKr}$"
   ]
  },
  {
   "cell_type": "code",
   "execution_count": 10,
   "id": "6250d0d9",
   "metadata": {},
   "outputs": [
    {
     "name": "stderr",
     "output_type": "stream",
     "text": [
      "Info in <TCanvas::Print>: png file ./checkSaturatedEvents/lkr_PvsEoP_muv12fand.png has been created\n"
     ]
    },
    {
     "data": {
      "image/png": "[encoded data removed]",
      "text/plain": [
       "<IPython.core.display.Image object>"
      ]
     },
     "metadata": {},
     "output_type": "display_data"
    }
   ],
   "source": [
    "lkr_PvsEoP_muv12fand = df_muv12_f_and.Histo2D((\"lkr_PvsEoP_muv12fand\",\"lkr_PvsEoP_muv12fand\",100,0,400,100,0,1.2),\"Tracks_p\",\"Tracks_lkrEoP\")\n",
    "clkr_PvsEoP_muv12fand = ROOT.TCanvas(\"clkr_PvsEoP_muv12fand\",\"clkr_PvsEoP_muv12fand\",860,600)\n",
    "clkr_PvsEoP_muv12fand.SetLogz()\n",
    "ROOT.gStyle.SetOptStat(0)\n",
    "ROOT.gStyle.SetPalette(ROOT.kRainBow)\n",
    "lkr_PvsEoP_muv12fand.SetTitle(\"Tracks p vs E_{LKr}/p\")\n",
    "lkr_PvsEoP_muv12fand.GetXaxis().SetTitleSize(0.04)\n",
    "lkr_PvsEoP_muv12fand.GetYaxis().SetTitleSize(0.04)\n",
    "lkr_PvsEoP_muv12fand.SetXTitle(\"p_{tracks} [GeV]\")\n",
    "lkr_PvsEoP_muv12fand.SetYTitle(\"E/p\")\n",
    "lkr_PvsEoP_muv12fand.Draw(\"COLZ\")\n",
    "clkr_PvsEoP_muv12fand.Draw()\n",
    "clkr_PvsEoP_muv12fand.SaveAs(\"./\"+saveDir+\"/lkr_PvsEoP_muv12fand.png\")"
   ]
  },
  {
   "cell_type": "code",
   "execution_count": 11,
   "id": "b477a72a",
   "metadata": {},
   "outputs": [
    {
     "name": "stderr",
     "output_type": "stream",
     "text": [
      "Info in <TCanvas::Print>: png file ./checkSaturatedEvents/lkr_EvsEoP_muv12fand.png has been created\n"
     ]
    },
    {
     "data": {
      "image/png": "[encoded data removed]",
      "text/plain": [
       "<IPython.core.display.Image object>"
      ]
     },
     "metadata": {},
     "output_type": "display_data"
    }
   ],
   "source": [
    "lkr_EvsEoP_muv12fand = df_muv12_f_and.Histo2D((\"lkr_EvsEoP_muv12fand\",\"lkr_EvsEoP_muv12fand\",100,0,400,100,0,1.2),\"Tracks_lkrE\",\"Tracks_lkrEoP\")\n",
    "clkr_EvsEoP_muv12fand = ROOT.TCanvas(\"clkr_EvsEoP_muv12fand\",\"clkr_EvsEoP_muv12fand\",860,600)\n",
    "clkr_EvsEoP_muv12fand.SetLogz()\n",
    "ROOT.gStyle.SetOptStat(0)\n",
    "ROOT.gStyle.SetPalette(ROOT.kRainBow)\n",
    "lkr_EvsEoP_muv12fand.SetTitle(\"Tracks E vs E_{LKr}/p\")\n",
    "lkr_EvsEoP_muv12fand.GetXaxis().SetTitleSize(0.04)\n",
    "lkr_EvsEoP_muv12fand.GetYaxis().SetTitleSize(0.04)\n",
    "lkr_EvsEoP_muv12fand.SetXTitle(\"E [GeV]\")\n",
    "lkr_EvsEoP_muv12fand.SetYTitle(\"E/p\")\n",
    "lkr_EvsEoP_muv12fand.Draw(\"COLZ\")\n",
    "clkr_EvsEoP_muv12fand.Draw()\n",
    "clkr_EvsEoP_muv12fand.SaveAs(\"./\"+saveDir+\"/lkr_EvsEoP_muv12fand.png\")"
   ]
  },
  {
   "cell_type": "markdown",
   "id": "96b311f7",
   "metadata": {},
   "source": [
    "# Check $E_{LKr}/p$ > 0.4"
   ]
  },
  {
   "cell_type": "code",
   "execution_count": 12,
   "id": "f575c174",
   "metadata": {},
   "outputs": [],
   "source": [
    "df_muv12_f_and_EoPgt0p4 = df_muv12_f_and.Filter(\"Tracks_lkrEoP>0.4&&DeltaE_CorrNative>0.\")"
   ]
  },
  {
   "cell_type": "code",
   "execution_count": 13,
   "id": "167bf328",
   "metadata": {
    "scrolled": false
   },
   "outputs": [
    {
     "name": "stderr",
     "output_type": "stream",
     "text": [
      "Info in <TCanvas::Print>: png file ./checkSaturatedEvents/lkr_PvsDeltaE_muv12fand.png has been created\n"
     ]
    },
    {
     "data": {
      "image/png": "[encoded data removed]",
      "text/plain": [
       "<IPython.core.display.Image object>"
      ]
     },
     "metadata": {},
     "output_type": "display_data"
    }
   ],
   "source": [
    "lkr_PvsDeltaE_muv12fand = df_muv12_f_and_EoPgt0p4.Histo2D((\"lkr_PvsDeltaE_muv12fand\",\"lkr_PvsDeltaE_muv12fand\",150,0,150,120,0,120),\"Tracks_p\",\"DeltaE_CorrNative\")\n",
    "clkr_PvsDeltaE_muv12fand = ROOT.TCanvas(\"clkr_PvsDeltaE_muv12fand\",\"\",860,600)\n",
    "clkr_PvsDeltaE_muv12fand.SetLogz()\n",
    "ROOT.gStyle.SetOptStat(0)\n",
    "ROOT.gStyle.SetPalette(ROOT.kRainBow)\n",
    "lkr_PvsDeltaE_muv12fand.SetTitle(\"Tracks p vs #DeltaE - LKr\")\n",
    "lkr_PvsDeltaE_muv12fand.GetXaxis().SetTitleSize(0.04)\n",
    "lkr_PvsDeltaE_muv12fand.GetYaxis().SetTitleSize(0.04)\n",
    "lkr_PvsDeltaE_muv12fand.SetXTitle(\"p_{tracks} [GeV]\")\n",
    "lkr_PvsDeltaE_muv12fand.SetYTitle(\"#DeltaE[corr,native]\")\n",
    "lkr_PvsDeltaE_muv12fand.Draw(\"COLZ\")\n",
    "clkr_PvsDeltaE_muv12fand.Draw()\n",
    "clkr_PvsDeltaE_muv12fand.SaveAs(\"./\"+saveDir+\"/lkr_PvsDeltaE_muv12fand.png\")"
   ]
  },
  {
   "cell_type": "code",
   "execution_count": 14,
   "id": "f4d57886",
   "metadata": {},
   "outputs": [
    {
     "name": "stdout",
     "output_type": "stream",
     "text": [
      "Number of Events:  48.0\n"
     ]
    }
   ],
   "source": [
    "print(\"Number of Events: \", lkr_PvsDeltaE_muv12fand.GetEntries())"
   ]
  },
  {
   "cell_type": "markdown",
   "id": "14626da8",
   "metadata": {},
   "source": [
    "- Sat: Possible saturation return true if seed energy less than Neighbour with highest energy.\n",
    "- DS_LKrE: LKr Energy of Downstream tracks\n",
    "- BestClusE: Energy of manually selected LKr candidate in radius direct."
   ]
  },
  {
   "cell_type": "code",
   "execution_count": 15,
   "id": "39eb643a",
   "metadata": {
    "scrolled": false
   },
   "outputs": [
    {
     "name": "stdout",
     "output_type": "stream",
     "text": [
      "+----------+-------+---------+-----+------------+-------------+-----------+-----------+\n",
      "| Row      | RunID | EventID | Sat | SeedEnergy | NeighbourE  | DS_LKrE   | BestClusE | \n",
      "+----------+-------+---------+-----+------------+-------------+-----------+-----------+\n",
      "| 1772615  | 11062 | 81692   | 0   | 15.069074  | 2.1192236   | 38.261386 | 19.723647 | \n",
      "+----------+-------+---------+-----+------------+-------------+-----------+-----------+\n",
      "| 2498056  | 11068 | 93980   | 0   | 1.2909175  | 0.52116499  | 4.6960032 | 5.6405244 | \n",
      "|          |       |         | 0   | 1.1948656  | 0.89922356  |           |           | \n",
      "+----------+-------+---------+-----+------------+-------------+-----------+-----------+\n",
      "| 2658970  | 11068 | 362005  | 0   | 12.367304  | 1.8993209   | 29.893611 | 4.3520855 | \n",
      "+----------+-------+---------+-----+------------+-------------+-----------+-----------+\n",
      "| 3804948  | 11068 | 529759  | 0   | 1.9675295  | 1.3074201   | 5.1616747 | 3.4356965 | \n",
      "|          |       |         | 0   | 1.9675295  | 1.3074201   |           |           | \n",
      "|          |       |         | 1   | 1.3074201  | 1.7285230   |           |           | \n",
      "+----------+-------+---------+-----+------------+-------------+-----------+-----------+\n",
      "| 4392017  | 11068 | 624916  | 0   | 7.8309624  | 4.8296181   | 32.476287 | 3.9887868 | \n",
      "+----------+-------+---------+-----+------------+-------------+-----------+-----------+\n",
      "| 4769619  | 11068 | 302775  | 0   | 1.8599116  | 0.30202589  | 4.0554310 | 5.6891205 | \n",
      "|          |       |         | 0   | 0.91243623 | 0.42578948  |           |           | \n",
      "+----------+-------+---------+-----+------------+-------------+-----------+-----------+\n",
      "| 6615145  | 11069 | 822551  | 0   | 1.0803440  | 0.65431602  | 3.5754431 | 5.1394346 | \n",
      "|          |       |         | 0   | 0.58364236 | 0.39882130  |           |           | \n",
      "+----------+-------+---------+-----+------------+-------------+-----------+-----------+\n",
      "| 10318489 | 11071 | 249821  | 0   | 16.224235  | 8.4493085   | 53.241556 | 2.1704710 | \n",
      "+----------+-------+---------+-----+------------+-------------+-----------+-----------+\n",
      "| 11496920 | 11071 | 569668  | 0   | 8.1152429  | 0.93842400  | 30.511697 | 2.2883219 | \n",
      "+----------+-------+---------+-----+------------+-------------+-----------+-----------+\n",
      "| 11693938 | 11071 | 162762  | 0   | 1.1044090  | 0.39121799  | 2.8640139 | 3.6519038 | \n",
      "|          |       |         | 0   | 0.82140946 | 0.33294983  |           |           | \n",
      "+----------+-------+---------+-----+------------+-------------+-----------+-----------+\n",
      "| 11894194 | 11071 | 825344  | 0   | 17.505528  | 7.3669499   | 56.751086 | 17.871409 | \n",
      "+----------+-------+---------+-----+------------+-------------+-----------+-----------+\n",
      "| 13353017 | 11071 | 253805  | 0   | 2.9608605  | 2.0284525   | 11.796355 | 12.575462 | \n",
      "|          |       |         | 0   | 2.4974286  | 1.5871960   |           |           | \n",
      "+----------+-------+---------+-----+------------+-------------+-----------+-----------+\n",
      "| 13950504 | 11072 | 212791  | 0   | 12.546136  | 8.6178060   | 60.977493 | 17.863041 | \n",
      "+----------+-------+---------+-----+------------+-------------+-----------+-----------+\n",
      "| 18604045 | 11075 | 445693  | 0   | 19.534029  | 4.9515270   | 51.085003 | 3.0379244 | \n",
      "+----------+-------+---------+-----+------------+-------------+-----------+-----------+\n",
      "| 18927982 | 11075 | 549137  | 0   | 1.1334224  | 0.45889177  | 2.7153868 | 4.2197356 | \n",
      "|          |       |         | 0   | 0.82958535 | 0.40805862  |           |           | \n",
      "+----------+-------+---------+-----+------------+-------------+-----------+-----------+\n",
      "| 21559720 | 11076 | 123296  | 0   | 7.0666532  | 5.4499954   | 28.261965 | 13.175595 | \n",
      "+----------+-------+---------+-----+------------+-------------+-----------+-----------+\n",
      "| 23087838 | 11076 | 49948   | 0   | 7.4121400  | 5.6810682   | 39.293685 | 2.1615360 | \n",
      "+----------+-------+---------+-----+------------+-------------+-----------+-----------+\n",
      "| 24949740 | 11077 | 149834  | 0   | 0.90702508 | 0.16161832  | 2.0494215 | 2.1573771 | \n",
      "|          |       |         | 0   | 0.54127163 | 0.23317167  |           |           | \n",
      "+----------+-------+---------+-----+------------+-------------+-----------+-----------+\n",
      "| 27111103 | 11078 | 84319   | 0   | 0.99921453 | 0.56615893  | 3.9109486 | 4.6987243 | \n",
      "|          |       |         | 0   | 0.74124724 | 0.63274629  |           |           | \n",
      "+----------+-------+---------+-----+------------+-------------+-----------+-----------+\n",
      "| 27498137 | 11078 | 349853  | 0   | 7.0198648  | 1.4308571   | 31.711302 | 2.6173640 | \n",
      "|          |       |         | 1   | 1.1663383  | 1.2761321   |           |           | \n",
      "|          |       |         | 0   | 7.0198648  | 1.4308571   |           |           | \n",
      "+----------+-------+---------+-----+------------+-------------+-----------+-----------+\n",
      "| 27905908 | 11078 | 610732  | 0   | 1.8444182  | 1.1241153   | 4.8293495 | 6.9491768 | \n",
      "|          |       |         | 0   | 1.1658497  | 1.0742844   |           |           | \n",
      "|          |       |         | 0   | 0.26091266 | 0.12024526  |           |           | \n",
      "+----------+-------+---------+-----+------------+-------------+-----------+-----------+\n",
      "| 28828693 | 11078 | 203910  | 0   | 20.629553  | 3.6297512   | 52.147128 | 7.4336438 | \n",
      "+----------+-------+---------+-----+------------+-------------+-----------+-----------+\n",
      "| 29207108 | 11078 | 471864  | 0   | 23.090608  | 17.362380   | 80.486994 | 18.569779 | \n",
      "+----------+-------+---------+-----+------------+-------------+-----------+-----------+\n",
      "| 29280125 | 11079 | 819617  | 0   | 10.127050  | 5.5495479   | 33.593179 | 3.5686866 | \n",
      "+----------+-------+---------+-----+------------+-------------+-----------+-----------+\n",
      "| 34806679 | 11083 | 414329  | 0   | 46.751620  | 6.2894909   | 112.46629 | 2.0500661 | \n",
      "+----------+-------+---------+-----+------------+-------------+-----------+-----------+\n",
      "| 37236276 | 11084 | 45127   | 0   | 1.3655221  | 0.44274665  | 3.0840967 | 5.3502355 | \n",
      "|          |       |         | 0   | 0.74724131 | 0.54596201  |           |           | \n",
      "+----------+-------+---------+-----+------------+-------------+-----------+-----------+\n",
      "| 38348306 | 11084 | 404628  | 0   | 0.94532300 | 0.68595893  | 4.3199107 | 4.3405693 | \n",
      "|          |       |         | 0   | 0.88030454 | 0.35347792  |           |           | \n",
      "+----------+-------+---------+-----+------------+-------------+-----------+-----------+\n",
      "| 40323518 | 11085 | 735645  | 0   | 1.2979399  | 0.30673623  | 3.2288718 | 4.4976533 | \n",
      "|          |       |         | 0   | 0.64641754 | 0.19351341  |           |           | \n",
      "+----------+-------+---------+-----+------------+-------------+-----------+-----------+\n",
      "| 40541580 | 11085 | 70434   | 0   | 7.4484671  | 6.8651712   | 30.639625 | 2.5673695 | \n",
      "+----------+-------+---------+-----+------------+-------------+-----------+-----------+\n",
      "| 42800109 | 11085 | 405771  | 0   | 15.801259  | 8.0837083   | 53.739907 | 1.9332046 | \n",
      "+----------+-------+---------+-----+------------+-------------+-----------+-----------+\n",
      "| 43449772 | 11086 | 320659  | 0   | 8.7613557  | 8.0906379   | 50.957562 | 1.7177201 | \n",
      "+----------+-------+---------+-----+------------+-------------+-----------+-----------+\n",
      "| 44622932 | 11086 | 190605  | 0   | 1.5640635  | 0.23081353  | 3.3689757 | 4.3826604 | \n",
      "|          |       |         | 0   | 1.0416520  | 0.31414533  |           |           | \n",
      "+----------+-------+---------+-----+------------+-------------+-----------+-----------+\n",
      "| 44704171 | 11086 | 397763  | 0   | 1.8212706  | 0.25652288  | 3.4840344 | 4.4346301 | \n",
      "|          |       |         | 0   | 0.77257794 | 0.25116446  |           |           | \n",
      "+----------+-------+---------+-----+------------+-------------+-----------+-----------+\n",
      "| 45672360 | 11086 | 316135  | 0   | 2.2971379  | 0.72829165  | 5.5381253 | 6.8273859 | \n",
      "|          |       |         | 0   | 1.8907422  | 0.54110440  |           |           | \n",
      "+----------+-------+---------+-----+------------+-------------+-----------+-----------+\n",
      "| 46124012 | 11088 | 820827  | 0   | 7.9734488  | 4.5283343   | 33.313903 | 9.1795474 | \n",
      "+----------+-------+---------+-----+------------+-------------+-----------+-----------+\n",
      "| 46167788 | 11088 | 306388  | 0   | 5.4619282  | 5.1266547   | 24.648690 | 16.834494 | \n",
      "+----------+-------+---------+-----+------------+-------------+-----------+-----------+\n",
      "| 47861649 | 11088 | 221497  | 0   | 0.65959373 | 0.36619420  | 2.0700617 | 2.3444661 | \n",
      "|          |       |         | 0   | 0.50482267 | 0.085431355 |           |           | \n",
      "+----------+-------+---------+-----+------------+-------------+-----------+-----------+\n",
      "| 48305712 | 11088 | 414420  | 0   | 13.804577  | 3.1767239   | 59.380437 | 2.0089874 | \n",
      "+----------+-------+---------+-----+------------+-------------+-----------+-----------+\n",
      "| 49334582 | 11088 | 245452  | 0   | 3.4995150  | 1.0933518   | 7.0569716 | 10.247691 | \n",
      "|          |       |         | 0   | 2.2860737  | 0.73324357  |           |           | \n",
      "|          |       |         | 0   | 0.84562730 | 0.55639219  |           |           | \n",
      "+----------+-------+---------+-----+------------+-------------+-----------+-----------+\n",
      "| 49884960 | 11089 | 398230  | 0   | 11.045201  | 2.0135540   | 27.601464 | 2.7131764 | \n",
      "+----------+-------+---------+-----+------------+-------------+-----------+-----------+\n",
      "| 56594678 | 11092 | 175013  | 0   | 1.1247479  | 0.64935150  | 5.2391528 | 5.4577520 | \n",
      "|          |       |         | 0   | 0.90252242 | 0.51964476  |           |           | \n",
      "+----------+-------+---------+-----+------------+-------------+-----------+-----------+\n",
      "| 57304498 | 11092 | 545001  | 0   | 1.9153597  | 1.0851745   | 6.2641970 | 6.9370600 | \n",
      "|          |       |         | 0   | 1.0415039  | 0.93582462  |           |           | \n",
      "+----------+-------+---------+-----+------------+-------------+-----------+-----------+\n",
      "| 58173424 | 11093 | 211660  | 0   | 1.3482918  | 0.49265984  | 4.0950611 | 4.1522765 | \n",
      "|          |       |         | 0   | 1.2831671  | 0.29102294  |           |           | \n",
      "+----------+-------+---------+-----+------------+-------------+-----------+-----------+\n",
      "| 58270981 | 11093 | 15536   | 0   | 6.1517727  | 1.8105338   | 16.124922 | 16.994134 | \n",
      "|          |       |         | 0   | 5.1364298  | 1.3869001   |           |           | \n",
      "|          |       |         | 0   | 4.2367508  | 1.8133125   |           |           | \n",
      "|          |       |         | 0   | 1.9248349  | 0.55753137  |           |           | \n",
      "|          |       |         | 0   | 1.1243779  | 1.0752300   |           |           | \n",
      "|          |       |         | 0   | 0.43462232 | 0.20642343  |           |           | \n",
      "|          |       |         | 0   | 0.25295854 | 0.072340901 |           |           | \n",
      "+----------+-------+---------+-----+------------+-------------+-----------+-----------+\n",
      "| 58517014 | 11093 | 144979  | 0   | 1.2154343  | 0.34020920  | 3.5965923 | 3.6381711 | \n",
      "|          |       |         | 0   | 1.1279302  | 0.15674341  |           |           | \n",
      "+----------+-------+---------+-----+------------+-------------+-----------+-----------+\n",
      "| 60136520 | 11093 | 161847  | 0   | 1.8416214  | 0.54959941  | 4.7213057 | 4.7460981 | \n",
      "|          |       |         | 0   | 0.92937835 | 0.76038392  |           |           | \n",
      "+----------+-------+---------+-----+------------+-------------+-----------+-----------+\n",
      "| 60993068 | 11093 | 535198  | 0   | 9.1679384  | 3.9087394   | 26.530779 | 2.7984460 | \n",
      "+----------+-------+---------+-----+------------+-------------+-----------+-----------+\n",
      "| 62093237 | 11094 | 376075  | 0   | 4.9643778  | 1.1967458   | 11.961182 | 12.554536 | \n",
      "|          |       |         | 0   | 2.0627596  | 1.6678265   |           |           | \n",
      "|          |       |         | 0   | 0.43897431 | 0.20336206  |           |           | \n",
      "+----------+-------+---------+-----+------------+-------------+-----------+-----------+\n"
     ]
    }
   ],
   "source": [
    "disp_EoPgt0p4 = df_muv12_f_and_EoPgt0p4.Display((\"RunID\",\"EventID\",\"Sat\",\"SeedEnergy\",\"NeighbourE\",\"DS_LKrE\",\"BestClusE\"),100) \n",
    "disp_EoPgt0p4.Print()"
   ]
  },
  {
   "cell_type": "markdown",
   "id": "3c73e306",
   "metadata": {},
   "source": [
    "# Check 1.05 > $E_{LKr}/p$ > 0.95"
   ]
  },
  {
   "cell_type": "code",
   "execution_count": 16,
   "id": "71e2ea02",
   "metadata": {},
   "outputs": [],
   "source": [
    "df_muv12_f_and_EoPin0p95to1p05 = df_muv12_f_and.Filter(\"Tracks_lkrEoP>0.95&&Tracks_lkrEoP<1.05&&DeltaE_CorrNative>0.\")"
   ]
  },
  {
   "cell_type": "code",
   "execution_count": 17,
   "id": "cb48e256",
   "metadata": {
    "scrolled": false
   },
   "outputs": [
    {
     "name": "stderr",
     "output_type": "stream",
     "text": [
      "Info in <TCanvas::Print>: png file ./checkSaturatedEvents/lkr_PvsDeltaE_muv12fand_EoPin0p95to1p05.png has been created\n"
     ]
    },
    {
     "data": {
      "image/png": "[encoded data removed]",
      "text/plain": [
       "<IPython.core.display.Image object>"
      ]
     },
     "metadata": {},
     "output_type": "display_data"
    }
   ],
   "source": [
    "lkr_PvsDeltaE_muv12fand_EoPin0p95to1p05 = df_muv12_f_and_EoPin0p95to1p05.Histo2D((\"lkr_PvsDeltaE_muv12fand_EoPin0p95to1p05\",\"lkr_PvsDeltaE_muv12fand_EoPin0p95to1p05\",150,0,150,120,0,120),\"Tracks_p\",\"DeltaE_CorrNative\")\n",
    "clkr_PvsDeltaE_muv12fand_EoPin0p95to1p05 = ROOT.TCanvas(\"clkr_PvsDeltaE_muv12fand_EoPin0p95to1p05\",\"\",860,600)\n",
    "clkr_PvsDeltaE_muv12fand_EoPin0p95to1p05.SetLogz()\n",
    "ROOT.gStyle.SetOptStat(0)\n",
    "ROOT.gStyle.SetPalette(ROOT.kRainBow)\n",
    "lkr_PvsDeltaE_muv12fand_EoPin0p95to1p05.SetTitle(\"Tracks p vs #DeltaE - LKr\")\n",
    "lkr_PvsDeltaE_muv12fand_EoPin0p95to1p05.GetXaxis().SetTitleSize(0.04)\n",
    "lkr_PvsDeltaE_muv12fand_EoPin0p95to1p05.GetYaxis().SetTitleSize(0.04)\n",
    "lkr_PvsDeltaE_muv12fand_EoPin0p95to1p05.SetXTitle(\"p_{tracks} [GeV]\")\n",
    "lkr_PvsDeltaE_muv12fand_EoPin0p95to1p05.SetYTitle(\"#DeltaE[corr,native]\")\n",
    "lkr_PvsDeltaE_muv12fand_EoPin0p95to1p05.Draw(\"COLZ\")\n",
    "clkr_PvsDeltaE_muv12fand_EoPin0p95to1p05.Draw()\n",
    "clkr_PvsDeltaE_muv12fand_EoPin0p95to1p05.SaveAs(\"./\"+saveDir+\"/lkr_PvsDeltaE_muv12fand_EoPin0p95to1p05.png\")"
   ]
  },
  {
   "cell_type": "code",
   "execution_count": 18,
   "id": "719ac25e",
   "metadata": {},
   "outputs": [
    {
     "name": "stdout",
     "output_type": "stream",
     "text": [
      "Number of Events:  1.0\n"
     ]
    }
   ],
   "source": [
    "print(\"Number of Events: \", lkr_PvsDeltaE_muv12fand_EoPin0p95to1p05.GetEntries())"
   ]
  },
  {
   "cell_type": "code",
   "execution_count": 19,
   "id": "fff8a9dd",
   "metadata": {},
   "outputs": [
    {
     "name": "stdout",
     "output_type": "stream",
     "text": [
      "+----------+-------+---------+-----+------------+------------+-----------+-----------+\n",
      "| Row      | RunID | EventID | Sat | SeedEnergy | NeighbourE | DS_LKrE   | BestClusE | \n",
      "+----------+-------+---------+-----+------------+------------+-----------+-----------+\n",
      "| 27498137 | 11078 | 349853  | 0   | 7.0198648  | 1.4308571  | 31.711302 | 2.6173640 | \n",
      "|          |       |         | 1   | 1.1663383  | 1.2761321  |           |           | \n",
      "|          |       |         | 0   | 7.0198648  | 1.4308571  |           |           | \n",
      "+----------+-------+---------+-----+------------+------------+-----------+-----------+\n"
     ]
    }
   ],
   "source": [
    "disp_EoPin0p95to1p05 = df_muv12_f_and_EoPin0p95to1p05.Display((\"RunID\",\"EventID\",\"Sat\",\"SeedEnergy\",\"NeighbourE\",\"DS_LKrE\",\"BestClusE\"),100) \n",
    "disp_EoPin0p95to1p05.Print()"
   ]
  }
 ],
 "metadata": {
  "kernelspec": {
   "display_name": "Python 3 (ipykernel)",
   "language": "python",
   "name": "python3"
  },
  "language_info": {
   "codemirror_mode": {
    "name": "ipython",
    "version": 3
   },
   "file_extension": ".py",
   "mimetype": "text/x-python",
   "name": "python",
   "nbconvert_exporter": "python",
   "pygments_lexer": "ipython3",
   "version": "3.8.15"
  }
 },
 "nbformat": 4,
 "nbformat_minor": 5
}
